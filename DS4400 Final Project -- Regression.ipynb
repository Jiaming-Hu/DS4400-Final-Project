{
 "cells": [
  {
   "cell_type": "code",
   "execution_count": 1,
   "metadata": {},
   "outputs": [],
   "source": [
    "import pandas as pd\n",
    "import numpy as np\n",
    "import seaborn as sns\n",
    "import matplotlib.pyplot as plt\n",
    "from sklearn import utils\n",
    "from sklearn.preprocessing import StandardScaler\n",
    "from sklearn.linear_model import LinearRegression\n",
    "from sklearn.preprocessing import PolynomialFeatures\n",
    "from sklearn.metrics import mean_squared_error\n",
    "from sklearn.metrics import r2_score\n",
    "from sklearn.linear_model import Ridge, Lasso\n",
    "from sklearn.model_selection import cross_val_score\n",
    "from sklearn.tree import DecisionTreeRegressor"
   ]
  },
  {
   "cell_type": "markdown",
   "metadata": {},
   "source": [
    "# 1. Data Cleaning"
   ]
  },
  {
   "cell_type": "code",
   "execution_count": 2,
   "metadata": {},
   "outputs": [
    {
     "data": {
      "text/html": [
       "<div>\n",
       "<style scoped>\n",
       "    .dataframe tbody tr th:only-of-type {\n",
       "        vertical-align: middle;\n",
       "    }\n",
       "\n",
       "    .dataframe tbody tr th {\n",
       "        vertical-align: top;\n",
       "    }\n",
       "\n",
       "    .dataframe thead th {\n",
       "        text-align: right;\n",
       "    }\n",
       "</style>\n",
       "<table border=\"1\" class=\"dataframe\">\n",
       "  <thead>\n",
       "    <tr style=\"text-align: right;\">\n",
       "      <th></th>\n",
       "      <th>SK_ID_CURR</th>\n",
       "      <th>TARGET</th>\n",
       "      <th>NAME_CONTRACT_TYPE</th>\n",
       "      <th>CODE_GENDER</th>\n",
       "      <th>FLAG_OWN_CAR</th>\n",
       "      <th>FLAG_OWN_REALTY</th>\n",
       "      <th>CNT_CHILDREN</th>\n",
       "      <th>AMT_INCOME_TOTAL</th>\n",
       "      <th>AMT_CREDIT</th>\n",
       "      <th>AMT_ANNUITY</th>\n",
       "      <th>...</th>\n",
       "      <th>FLAG_DOCUMENT_18</th>\n",
       "      <th>FLAG_DOCUMENT_19</th>\n",
       "      <th>FLAG_DOCUMENT_20</th>\n",
       "      <th>FLAG_DOCUMENT_21</th>\n",
       "      <th>AMT_REQ_CREDIT_BUREAU_HOUR</th>\n",
       "      <th>AMT_REQ_CREDIT_BUREAU_DAY</th>\n",
       "      <th>AMT_REQ_CREDIT_BUREAU_WEEK</th>\n",
       "      <th>AMT_REQ_CREDIT_BUREAU_MON</th>\n",
       "      <th>AMT_REQ_CREDIT_BUREAU_QRT</th>\n",
       "      <th>AMT_REQ_CREDIT_BUREAU_YEAR</th>\n",
       "    </tr>\n",
       "  </thead>\n",
       "  <tbody>\n",
       "    <tr>\n",
       "      <td>218885</td>\n",
       "      <td>353578</td>\n",
       "      <td>0</td>\n",
       "      <td>Cash loans</td>\n",
       "      <td>F</td>\n",
       "      <td>N</td>\n",
       "      <td>Y</td>\n",
       "      <td>0</td>\n",
       "      <td>157500.0</td>\n",
       "      <td>497520.0</td>\n",
       "      <td>39438.0</td>\n",
       "      <td>...</td>\n",
       "      <td>0</td>\n",
       "      <td>0</td>\n",
       "      <td>0</td>\n",
       "      <td>0</td>\n",
       "      <td>NaN</td>\n",
       "      <td>NaN</td>\n",
       "      <td>NaN</td>\n",
       "      <td>NaN</td>\n",
       "      <td>NaN</td>\n",
       "      <td>NaN</td>\n",
       "    </tr>\n",
       "    <tr>\n",
       "      <td>47278</td>\n",
       "      <td>154745</td>\n",
       "      <td>1</td>\n",
       "      <td>Cash loans</td>\n",
       "      <td>F</td>\n",
       "      <td>Y</td>\n",
       "      <td>N</td>\n",
       "      <td>0</td>\n",
       "      <td>90000.0</td>\n",
       "      <td>225000.0</td>\n",
       "      <td>17775.0</td>\n",
       "      <td>...</td>\n",
       "      <td>0</td>\n",
       "      <td>0</td>\n",
       "      <td>0</td>\n",
       "      <td>0</td>\n",
       "      <td>0.0</td>\n",
       "      <td>0.0</td>\n",
       "      <td>0.0</td>\n",
       "      <td>0.0</td>\n",
       "      <td>1.0</td>\n",
       "      <td>0.0</td>\n",
       "    </tr>\n",
       "    <tr>\n",
       "      <td>83722</td>\n",
       "      <td>197098</td>\n",
       "      <td>1</td>\n",
       "      <td>Cash loans</td>\n",
       "      <td>F</td>\n",
       "      <td>N</td>\n",
       "      <td>Y</td>\n",
       "      <td>1</td>\n",
       "      <td>90000.0</td>\n",
       "      <td>164952.0</td>\n",
       "      <td>13162.5</td>\n",
       "      <td>...</td>\n",
       "      <td>0</td>\n",
       "      <td>0</td>\n",
       "      <td>0</td>\n",
       "      <td>0</td>\n",
       "      <td>0.0</td>\n",
       "      <td>0.0</td>\n",
       "      <td>0.0</td>\n",
       "      <td>0.0</td>\n",
       "      <td>0.0</td>\n",
       "      <td>2.0</td>\n",
       "    </tr>\n",
       "    <tr>\n",
       "      <td>297950</td>\n",
       "      <td>445189</td>\n",
       "      <td>0</td>\n",
       "      <td>Cash loans</td>\n",
       "      <td>M</td>\n",
       "      <td>Y</td>\n",
       "      <td>Y</td>\n",
       "      <td>1</td>\n",
       "      <td>90000.0</td>\n",
       "      <td>183384.0</td>\n",
       "      <td>19386.0</td>\n",
       "      <td>...</td>\n",
       "      <td>0</td>\n",
       "      <td>0</td>\n",
       "      <td>0</td>\n",
       "      <td>0</td>\n",
       "      <td>0.0</td>\n",
       "      <td>0.0</td>\n",
       "      <td>0.0</td>\n",
       "      <td>0.0</td>\n",
       "      <td>0.0</td>\n",
       "      <td>2.0</td>\n",
       "    </tr>\n",
       "    <tr>\n",
       "      <td>180219</td>\n",
       "      <td>308852</td>\n",
       "      <td>0</td>\n",
       "      <td>Cash loans</td>\n",
       "      <td>F</td>\n",
       "      <td>Y</td>\n",
       "      <td>Y</td>\n",
       "      <td>0</td>\n",
       "      <td>112500.0</td>\n",
       "      <td>808650.0</td>\n",
       "      <td>31464.0</td>\n",
       "      <td>...</td>\n",
       "      <td>0</td>\n",
       "      <td>0</td>\n",
       "      <td>0</td>\n",
       "      <td>0</td>\n",
       "      <td>0.0</td>\n",
       "      <td>0.0</td>\n",
       "      <td>0.0</td>\n",
       "      <td>0.0</td>\n",
       "      <td>0.0</td>\n",
       "      <td>0.0</td>\n",
       "    </tr>\n",
       "    <tr>\n",
       "      <td>298121</td>\n",
       "      <td>445382</td>\n",
       "      <td>0</td>\n",
       "      <td>Revolving loans</td>\n",
       "      <td>F</td>\n",
       "      <td>N</td>\n",
       "      <td>Y</td>\n",
       "      <td>1</td>\n",
       "      <td>63765.0</td>\n",
       "      <td>135000.0</td>\n",
       "      <td>6750.0</td>\n",
       "      <td>...</td>\n",
       "      <td>0</td>\n",
       "      <td>0</td>\n",
       "      <td>0</td>\n",
       "      <td>0</td>\n",
       "      <td>NaN</td>\n",
       "      <td>NaN</td>\n",
       "      <td>NaN</td>\n",
       "      <td>NaN</td>\n",
       "      <td>NaN</td>\n",
       "      <td>NaN</td>\n",
       "    </tr>\n",
       "    <tr>\n",
       "      <td>190683</td>\n",
       "      <td>321094</td>\n",
       "      <td>0</td>\n",
       "      <td>Cash loans</td>\n",
       "      <td>F</td>\n",
       "      <td>N</td>\n",
       "      <td>Y</td>\n",
       "      <td>1</td>\n",
       "      <td>112500.0</td>\n",
       "      <td>247500.0</td>\n",
       "      <td>19152.0</td>\n",
       "      <td>...</td>\n",
       "      <td>0</td>\n",
       "      <td>0</td>\n",
       "      <td>0</td>\n",
       "      <td>0</td>\n",
       "      <td>NaN</td>\n",
       "      <td>NaN</td>\n",
       "      <td>NaN</td>\n",
       "      <td>NaN</td>\n",
       "      <td>NaN</td>\n",
       "      <td>NaN</td>\n",
       "    </tr>\n",
       "    <tr>\n",
       "      <td>262856</td>\n",
       "      <td>404362</td>\n",
       "      <td>0</td>\n",
       "      <td>Cash loans</td>\n",
       "      <td>F</td>\n",
       "      <td>N</td>\n",
       "      <td>N</td>\n",
       "      <td>0</td>\n",
       "      <td>180000.0</td>\n",
       "      <td>178290.0</td>\n",
       "      <td>21289.5</td>\n",
       "      <td>...</td>\n",
       "      <td>0</td>\n",
       "      <td>0</td>\n",
       "      <td>0</td>\n",
       "      <td>0</td>\n",
       "      <td>NaN</td>\n",
       "      <td>NaN</td>\n",
       "      <td>NaN</td>\n",
       "      <td>NaN</td>\n",
       "      <td>NaN</td>\n",
       "      <td>NaN</td>\n",
       "    </tr>\n",
       "    <tr>\n",
       "      <td>210910</td>\n",
       "      <td>344421</td>\n",
       "      <td>0</td>\n",
       "      <td>Cash loans</td>\n",
       "      <td>M</td>\n",
       "      <td>Y</td>\n",
       "      <td>N</td>\n",
       "      <td>0</td>\n",
       "      <td>342000.0</td>\n",
       "      <td>1078200.0</td>\n",
       "      <td>34911.0</td>\n",
       "      <td>...</td>\n",
       "      <td>0</td>\n",
       "      <td>0</td>\n",
       "      <td>0</td>\n",
       "      <td>0</td>\n",
       "      <td>0.0</td>\n",
       "      <td>0.0</td>\n",
       "      <td>0.0</td>\n",
       "      <td>8.0</td>\n",
       "      <td>0.0</td>\n",
       "      <td>6.0</td>\n",
       "    </tr>\n",
       "    <tr>\n",
       "      <td>214123</td>\n",
       "      <td>348121</td>\n",
       "      <td>1</td>\n",
       "      <td>Cash loans</td>\n",
       "      <td>M</td>\n",
       "      <td>N</td>\n",
       "      <td>N</td>\n",
       "      <td>2</td>\n",
       "      <td>450000.0</td>\n",
       "      <td>1078200.0</td>\n",
       "      <td>31027.5</td>\n",
       "      <td>...</td>\n",
       "      <td>0</td>\n",
       "      <td>0</td>\n",
       "      <td>0</td>\n",
       "      <td>0</td>\n",
       "      <td>0.0</td>\n",
       "      <td>0.0</td>\n",
       "      <td>0.0</td>\n",
       "      <td>0.0</td>\n",
       "      <td>0.0</td>\n",
       "      <td>0.0</td>\n",
       "    </tr>\n",
       "  </tbody>\n",
       "</table>\n",
       "<p>10 rows × 122 columns</p>\n",
       "</div>"
      ],
      "text/plain": [
       "        SK_ID_CURR  TARGET NAME_CONTRACT_TYPE CODE_GENDER FLAG_OWN_CAR  \\\n",
       "218885      353578       0         Cash loans           F            N   \n",
       "47278       154745       1         Cash loans           F            Y   \n",
       "83722       197098       1         Cash loans           F            N   \n",
       "297950      445189       0         Cash loans           M            Y   \n",
       "180219      308852       0         Cash loans           F            Y   \n",
       "298121      445382       0    Revolving loans           F            N   \n",
       "190683      321094       0         Cash loans           F            N   \n",
       "262856      404362       0         Cash loans           F            N   \n",
       "210910      344421       0         Cash loans           M            Y   \n",
       "214123      348121       1         Cash loans           M            N   \n",
       "\n",
       "       FLAG_OWN_REALTY  CNT_CHILDREN  AMT_INCOME_TOTAL  AMT_CREDIT  \\\n",
       "218885               Y             0          157500.0    497520.0   \n",
       "47278                N             0           90000.0    225000.0   \n",
       "83722                Y             1           90000.0    164952.0   \n",
       "297950               Y             1           90000.0    183384.0   \n",
       "180219               Y             0          112500.0    808650.0   \n",
       "298121               Y             1           63765.0    135000.0   \n",
       "190683               Y             1          112500.0    247500.0   \n",
       "262856               N             0          180000.0    178290.0   \n",
       "210910               N             0          342000.0   1078200.0   \n",
       "214123               N             2          450000.0   1078200.0   \n",
       "\n",
       "        AMT_ANNUITY  ...  FLAG_DOCUMENT_18 FLAG_DOCUMENT_19 FLAG_DOCUMENT_20  \\\n",
       "218885      39438.0  ...                 0                0                0   \n",
       "47278       17775.0  ...                 0                0                0   \n",
       "83722       13162.5  ...                 0                0                0   \n",
       "297950      19386.0  ...                 0                0                0   \n",
       "180219      31464.0  ...                 0                0                0   \n",
       "298121       6750.0  ...                 0                0                0   \n",
       "190683      19152.0  ...                 0                0                0   \n",
       "262856      21289.5  ...                 0                0                0   \n",
       "210910      34911.0  ...                 0                0                0   \n",
       "214123      31027.5  ...                 0                0                0   \n",
       "\n",
       "       FLAG_DOCUMENT_21 AMT_REQ_CREDIT_BUREAU_HOUR AMT_REQ_CREDIT_BUREAU_DAY  \\\n",
       "218885                0                        NaN                       NaN   \n",
       "47278                 0                        0.0                       0.0   \n",
       "83722                 0                        0.0                       0.0   \n",
       "297950                0                        0.0                       0.0   \n",
       "180219                0                        0.0                       0.0   \n",
       "298121                0                        NaN                       NaN   \n",
       "190683                0                        NaN                       NaN   \n",
       "262856                0                        NaN                       NaN   \n",
       "210910                0                        0.0                       0.0   \n",
       "214123                0                        0.0                       0.0   \n",
       "\n",
       "        AMT_REQ_CREDIT_BUREAU_WEEK  AMT_REQ_CREDIT_BUREAU_MON  \\\n",
       "218885                         NaN                        NaN   \n",
       "47278                          0.0                        0.0   \n",
       "83722                          0.0                        0.0   \n",
       "297950                         0.0                        0.0   \n",
       "180219                         0.0                        0.0   \n",
       "298121                         NaN                        NaN   \n",
       "190683                         NaN                        NaN   \n",
       "262856                         NaN                        NaN   \n",
       "210910                         0.0                        8.0   \n",
       "214123                         0.0                        0.0   \n",
       "\n",
       "        AMT_REQ_CREDIT_BUREAU_QRT  AMT_REQ_CREDIT_BUREAU_YEAR  \n",
       "218885                        NaN                         NaN  \n",
       "47278                         1.0                         0.0  \n",
       "83722                         0.0                         2.0  \n",
       "297950                        0.0                         2.0  \n",
       "180219                        0.0                         0.0  \n",
       "298121                        NaN                         NaN  \n",
       "190683                        NaN                         NaN  \n",
       "262856                        NaN                         NaN  \n",
       "210910                        0.0                         6.0  \n",
       "214123                        0.0                         0.0  \n",
       "\n",
       "[10 rows x 122 columns]"
      ]
     },
     "execution_count": 2,
     "metadata": {},
     "output_type": "execute_result"
    }
   ],
   "source": [
    "# import the data\n",
    "df = pd.read_csv(\"application_data.csv\")\n",
    "# shuffle the data\n",
    "df = utils.shuffle(df)\n",
    "df.head(10)"
   ]
  },
  {
   "cell_type": "code",
   "execution_count": 3,
   "metadata": {},
   "outputs": [],
   "source": [
    "# select columns based on the column description\n",
    "df = df[[\"TARGET\", \"NAME_CONTRACT_TYPE\", \"CODE_GENDER\", \"FLAG_OWN_CAR\", \"FLAG_OWN_REALTY\", \"CNT_CHILDREN\",\n",
    "         \"AMT_INCOME_TOTAL\", \"AMT_GOODS_PRICE\", \"NAME_INCOME_TYPE\", \"NAME_EDUCATION_TYPE\",\n",
    "         \"NAME_FAMILY_STATUS\", \"NAME_HOUSING_TYPE\", \"DAYS_BIRTH\", \"DAYS_EMPLOYED\",\n",
    "         \"OCCUPATION_TYPE\", \"CNT_FAM_MEMBERS\", \"REGION_RATING_CLIENT\", \"AMT_CREDIT\"]]\n",
    "\n",
    "# rename the columns \n",
    "df = df.rename(columns = {\"TARGET\": \"Late_payment_before\", \"NAME_CONTRACT_TYPE\": \"Loan_type\", \"CODE_GENDER\": \"Gender\",\n",
    "                          \"FLAG_OWN_CAR\": \"Own_car\", \"FLAG_OWN_REALTY\": \"Own_realty\", \"CNT_CHILDREN\": \"Number_of_children\",\n",
    "                          \"AMT_INCOME_TOTAL\": \"Annual_income\", \"AMT_GOODS_PRICE\": \"Goods_price\", \"NAME_INCOME_TYPE\": \"Income_type\",\n",
    "                          \"NAME_EDUCATION_TYPE\": \"Educational_level\", \"NAME_FAMILY_STATUS\": \"Marriege_status\",\"NAME_HOUSING_TYPE\": \"Housing_type\",\n",
    "                          \"DAYS_BIRTH\": \"Age\", \"DAYS_EMPLOYED\": \"Working_length\", \"OCCUPATION_TYPE\": \"Occupation_type\",\n",
    "                          \"CNT_FAM_MEMBERS\": \"Number_of_family_member\", \"REGION_RATING_CLIENT\": \"Living_region_rating\",\"AMT_CREDIT\": \"Amount_issued\"})\n",
    "\n",
    "# drop the Nah\n",
    "df = df.dropna()"
   ]
  },
  {
   "cell_type": "code",
   "execution_count": 4,
   "metadata": {},
   "outputs": [],
   "source": [
    "def get_sub_Xi(df, x):\n",
    "    return list(df[x].unique())\n",
    "\n",
    "# normalize train x_df\n",
    "def normalize_one_column(x, df):\n",
    "    sub_x_list = get_sub_Xi(df, x)\n",
    "    for sub_x in sub_x_list:\n",
    "        df[x].replace({sub_x : sub_x_list.index(sub_x)}, inplace = True)"
   ]
  },
  {
   "cell_type": "code",
   "execution_count": 5,
   "metadata": {},
   "outputs": [],
   "source": [
    "# normalize the data\n",
    "features_need_normalize = [\"Gender\", \"Own_car\", \"Own_realty\", \"Income_type\", \"Educational_level\", \"Marriege_status\", \"Housing_type\", \"Occupation_type\"]\n",
    "\n",
    "for feature in features_need_normalize:\n",
    "    normalize_one_column(feature, df)"
   ]
  },
  {
   "cell_type": "code",
   "execution_count": 6,
   "metadata": {},
   "outputs": [],
   "source": [
    "# day to year\n",
    "def day_to_year(num):\n",
    "    return round(- num / 365, 2)\n",
    "\n",
    "df[\"Age\"] = df[\"Age\"].apply(day_to_year)\n",
    "df[\"Working_length\"] = df[\"Working_length\"].apply(day_to_year)"
   ]
  },
  {
   "cell_type": "code",
   "execution_count": 7,
   "metadata": {},
   "outputs": [],
   "source": [
    "# divide the the data into two parts\n",
    "cash_loan_df = df[df[\"Loan_type\"] == \"Cash loans\"].dropna().drop(columns = [\"Loan_type\"])\n",
    "revolving_loan_df = df[df[\"Loan_type\"] == \"Revolving loans\"].dropna().drop(columns = [\"Loan_type\"])"
   ]
  },
  {
   "cell_type": "code",
   "execution_count": 8,
   "metadata": {},
   "outputs": [],
   "source": [
    "# split the data into train and test\n",
    "def data_preparation(df):\n",
    "    \n",
    "    # define split\n",
    "    split = int(len(df) * 3 / 4)\n",
    "    \n",
    "    # prepare training and testing data\n",
    "    x, y = df.loc[:, df.columns != 'Amount_issued'], df['Amount_issued']\n",
    "    x_train, x_test = x.iloc[:split], x.iloc[split:]\n",
    "    y_train, y_test = y.iloc[:split], y.iloc[split:]\n",
    "    \n",
    "    return x_train, y_train, x_test, y_test"
   ]
  },
  {
   "cell_type": "code",
   "execution_count": 9,
   "metadata": {},
   "outputs": [],
   "source": [
    "def get_metrics(x, y, model):\n",
    "    # get predicted value\n",
    "    y_predict = model.predict(x)\n",
    "    # calculate the rmse\n",
    "    rmse = np.sqrt(mean_squared_error(y, y_predict))\n",
    "    # calculate r2 score\n",
    "    r2 = r2_score(y, y_predict)\n",
    "    \n",
    "    print(\"RMSE:\", rmse, \"\\nR2 score:\", r2)"
   ]
  },
  {
   "cell_type": "markdown",
   "metadata": {},
   "source": [
    "# 2. Cash Loan"
   ]
  },
  {
   "cell_type": "code",
   "execution_count": 10,
   "metadata": {},
   "outputs": [
    {
     "data": {
      "text/html": [
       "<div>\n",
       "<style scoped>\n",
       "    .dataframe tbody tr th:only-of-type {\n",
       "        vertical-align: middle;\n",
       "    }\n",
       "\n",
       "    .dataframe tbody tr th {\n",
       "        vertical-align: top;\n",
       "    }\n",
       "\n",
       "    .dataframe thead th {\n",
       "        text-align: right;\n",
       "    }\n",
       "</style>\n",
       "<table border=\"1\" class=\"dataframe\">\n",
       "  <thead>\n",
       "    <tr style=\"text-align: right;\">\n",
       "      <th></th>\n",
       "      <th>Late_payment_before</th>\n",
       "      <th>Gender</th>\n",
       "      <th>Own_car</th>\n",
       "      <th>Own_realty</th>\n",
       "      <th>Number_of_children</th>\n",
       "      <th>Annual_income</th>\n",
       "      <th>Goods_price</th>\n",
       "      <th>Income_type</th>\n",
       "      <th>Educational_level</th>\n",
       "      <th>Marriege_status</th>\n",
       "      <th>Housing_type</th>\n",
       "      <th>Age</th>\n",
       "      <th>Working_length</th>\n",
       "      <th>Occupation_type</th>\n",
       "      <th>Number_of_family_member</th>\n",
       "      <th>Living_region_rating</th>\n",
       "      <th>Amount_issued</th>\n",
       "    </tr>\n",
       "  </thead>\n",
       "  <tbody>\n",
       "    <tr>\n",
       "      <td>218885</td>\n",
       "      <td>0</td>\n",
       "      <td>0</td>\n",
       "      <td>0</td>\n",
       "      <td>0</td>\n",
       "      <td>0</td>\n",
       "      <td>157500.0</td>\n",
       "      <td>450000.0</td>\n",
       "      <td>0</td>\n",
       "      <td>0</td>\n",
       "      <td>0</td>\n",
       "      <td>0</td>\n",
       "      <td>22.60</td>\n",
       "      <td>1.00</td>\n",
       "      <td>0</td>\n",
       "      <td>2.0</td>\n",
       "      <td>2</td>\n",
       "      <td>497520.0</td>\n",
       "    </tr>\n",
       "    <tr>\n",
       "      <td>47278</td>\n",
       "      <td>1</td>\n",
       "      <td>0</td>\n",
       "      <td>1</td>\n",
       "      <td>1</td>\n",
       "      <td>0</td>\n",
       "      <td>90000.0</td>\n",
       "      <td>225000.0</td>\n",
       "      <td>1</td>\n",
       "      <td>0</td>\n",
       "      <td>1</td>\n",
       "      <td>0</td>\n",
       "      <td>31.04</td>\n",
       "      <td>9.64</td>\n",
       "      <td>1</td>\n",
       "      <td>2.0</td>\n",
       "      <td>1</td>\n",
       "      <td>225000.0</td>\n",
       "    </tr>\n",
       "    <tr>\n",
       "      <td>83722</td>\n",
       "      <td>1</td>\n",
       "      <td>0</td>\n",
       "      <td>0</td>\n",
       "      <td>0</td>\n",
       "      <td>1</td>\n",
       "      <td>90000.0</td>\n",
       "      <td>130500.0</td>\n",
       "      <td>0</td>\n",
       "      <td>0</td>\n",
       "      <td>1</td>\n",
       "      <td>0</td>\n",
       "      <td>34.61</td>\n",
       "      <td>3.18</td>\n",
       "      <td>2</td>\n",
       "      <td>3.0</td>\n",
       "      <td>2</td>\n",
       "      <td>164952.0</td>\n",
       "    </tr>\n",
       "    <tr>\n",
       "      <td>190683</td>\n",
       "      <td>0</td>\n",
       "      <td>0</td>\n",
       "      <td>0</td>\n",
       "      <td>0</td>\n",
       "      <td>1</td>\n",
       "      <td>112500.0</td>\n",
       "      <td>247500.0</td>\n",
       "      <td>1</td>\n",
       "      <td>1</td>\n",
       "      <td>1</td>\n",
       "      <td>0</td>\n",
       "      <td>36.31</td>\n",
       "      <td>3.82</td>\n",
       "      <td>4</td>\n",
       "      <td>3.0</td>\n",
       "      <td>2</td>\n",
       "      <td>247500.0</td>\n",
       "    </tr>\n",
       "    <tr>\n",
       "      <td>210910</td>\n",
       "      <td>0</td>\n",
       "      <td>1</td>\n",
       "      <td>1</td>\n",
       "      <td>1</td>\n",
       "      <td>0</td>\n",
       "      <td>342000.0</td>\n",
       "      <td>900000.0</td>\n",
       "      <td>0</td>\n",
       "      <td>0</td>\n",
       "      <td>1</td>\n",
       "      <td>1</td>\n",
       "      <td>64.78</td>\n",
       "      <td>2.73</td>\n",
       "      <td>5</td>\n",
       "      <td>2.0</td>\n",
       "      <td>1</td>\n",
       "      <td>1078200.0</td>\n",
       "    </tr>\n",
       "  </tbody>\n",
       "</table>\n",
       "</div>"
      ],
      "text/plain": [
       "        Late_payment_before  Gender  Own_car  Own_realty  Number_of_children  \\\n",
       "218885                    0       0        0           0                   0   \n",
       "47278                     1       0        1           1                   0   \n",
       "83722                     1       0        0           0                   1   \n",
       "190683                    0       0        0           0                   1   \n",
       "210910                    0       1        1           1                   0   \n",
       "\n",
       "        Annual_income  Goods_price  Income_type  Educational_level  \\\n",
       "218885       157500.0     450000.0            0                  0   \n",
       "47278         90000.0     225000.0            1                  0   \n",
       "83722         90000.0     130500.0            0                  0   \n",
       "190683       112500.0     247500.0            1                  1   \n",
       "210910       342000.0     900000.0            0                  0   \n",
       "\n",
       "        Marriege_status  Housing_type    Age  Working_length  Occupation_type  \\\n",
       "218885                0             0  22.60            1.00                0   \n",
       "47278                 1             0  31.04            9.64                1   \n",
       "83722                 1             0  34.61            3.18                2   \n",
       "190683                1             0  36.31            3.82                4   \n",
       "210910                1             1  64.78            2.73                5   \n",
       "\n",
       "        Number_of_family_member  Living_region_rating  Amount_issued  \n",
       "218885                      2.0                     2       497520.0  \n",
       "47278                       2.0                     1       225000.0  \n",
       "83722                       3.0                     2       164952.0  \n",
       "190683                      3.0                     2       247500.0  \n",
       "210910                      2.0                     1      1078200.0  "
      ]
     },
     "execution_count": 10,
     "metadata": {},
     "output_type": "execute_result"
    }
   ],
   "source": [
    "cash_loan_df.head(5)"
   ]
  },
  {
   "cell_type": "code",
   "execution_count": 11,
   "metadata": {},
   "outputs": [],
   "source": [
    "# define scaler, use standard scaler\n",
    "scaler = StandardScaler()\n",
    "\n",
    "features = list(cash_loan_df.columns)[:-1]\n",
    "# use stardard scaler to scale data, used for gradient descent\n",
    "cash_loan_df[features] = scaler.fit_transform(cash_loan_df[list(features)])"
   ]
  },
  {
   "cell_type": "code",
   "execution_count": 12,
   "metadata": {},
   "outputs": [
    {
     "data": {
      "text/plain": [
       "<matplotlib.axes._subplots.AxesSubplot at 0x7fbf9c9f8e90>"
      ]
     },
     "execution_count": 12,
     "metadata": {},
     "output_type": "execute_result"
    },
    {
     "data": {
      "image/png": "[encoded data removed]",
      "text/plain": [
       "<Figure size 720x540 with 2 Axes>"
      ]
     },
     "metadata": {
      "needs_background": "light"
     },
     "output_type": "display_data"
    }
   ],
   "source": [
    "correlation_matrix = cash_loan_df.corr().round(2)\n",
    "\n",
    "plt.subplots(figsize=(10, 7.5))\n",
    "sns.heatmap(data = correlation_matrix, annot = True)"
   ]
  },
  {
   "cell_type": "code",
   "execution_count": 13,
   "metadata": {},
   "outputs": [
    {
     "data": {
      "text/plain": [
       "Late_payment_before       -0.05\n",
       "Gender                    -0.00\n",
       "Own_car                    0.10\n",
       "Own_realty                 0.03\n",
       "Number_of_children        -0.01\n",
       "Annual_income              0.12\n",
       "Goods_price                0.99\n",
       "Income_type                0.10\n",
       "Educational_level          0.12\n",
       "Marriege_status           -0.05\n",
       "Housing_type              -0.04\n",
       "Age                        0.15\n",
       "Working_length             0.09\n",
       "Occupation_type           -0.03\n",
       "Number_of_family_member    0.04\n",
       "Living_region_rating      -0.11\n",
       "Amount_issued              1.00\n",
       "Name: Amount_issued, dtype: float64"
      ]
     },
     "execution_count": 13,
     "metadata": {},
     "output_type": "execute_result"
    }
   ],
   "source": [
    "# calculate the correlation coefficient\n",
    "cash_loan_df.corr().round(2).iloc[:, -1]"
   ]
  },
  {
   "cell_type": "code",
   "execution_count": 14,
   "metadata": {},
   "outputs": [],
   "source": [
    "# prepare the data\n",
    "x_train, y_train, x_test, y_test = data_preparation(cash_loan_df)"
   ]
  },
  {
   "cell_type": "markdown",
   "metadata": {},
   "source": [
    "## 2.1 Linear Regression"
   ]
  },
  {
   "cell_type": "code",
   "execution_count": 15,
   "metadata": {},
   "outputs": [
    {
     "data": {
      "text/plain": [
       "LinearRegression(copy_X=True, fit_intercept=True, n_jobs=None, normalize=False)"
      ]
     },
     "execution_count": 15,
     "metadata": {},
     "output_type": "execute_result"
    }
   ],
   "source": [
    "# train by linear regression\n",
    "mlr = LinearRegression()\n",
    "mlr.fit(x_train, y_train)"
   ]
  },
  {
   "cell_type": "code",
   "execution_count": 16,
   "metadata": {},
   "outputs": [
    {
     "name": "stdout",
     "output_type": "stream",
     "text": [
      "Performance on Training set:\n",
      "RMSE: 66826.51279853896 \n",
      "R2 score: 0.9730967778782776\n",
      "\n",
      "Performance on Testing set:\n",
      "RMSE: 66875.12229400582 \n",
      "R2 score: 0.9734176681610894\n"
     ]
    }
   ],
   "source": [
    "print(\"Performance on Training set:\")\n",
    "get_metrics(x_train, y_train, mlr)\n",
    "print(\"\\nPerformance on Testing set:\")\n",
    "get_metrics(x_test, y_test, mlr)"
   ]
  },
  {
   "cell_type": "markdown",
   "metadata": {},
   "source": [
    "## 2.2 Polynomial Regression"
   ]
  },
  {
   "cell_type": "code",
   "execution_count": 17,
   "metadata": {},
   "outputs": [
    {
     "data": {
      "text/html": [
       "<div>\n",
       "<style scoped>\n",
       "    .dataframe tbody tr th:only-of-type {\n",
       "        vertical-align: middle;\n",
       "    }\n",
       "\n",
       "    .dataframe tbody tr th {\n",
       "        vertical-align: top;\n",
       "    }\n",
       "\n",
       "    .dataframe thead th {\n",
       "        text-align: right;\n",
       "    }\n",
       "</style>\n",
       "<table border=\"1\" class=\"dataframe\">\n",
       "  <thead>\n",
       "    <tr style=\"text-align: right;\">\n",
       "      <th></th>\n",
       "      <th>RMSE</th>\n",
       "      <th>R2</th>\n",
       "    </tr>\n",
       "    <tr>\n",
       "      <th>Degree</th>\n",
       "      <th></th>\n",
       "      <th></th>\n",
       "    </tr>\n",
       "  </thead>\n",
       "  <tbody>\n",
       "    <tr>\n",
       "      <td>1</td>\n",
       "      <td>66826.512799</td>\n",
       "      <td>0.973097</td>\n",
       "    </tr>\n",
       "    <tr>\n",
       "      <td>2</td>\n",
       "      <td>65525.857762</td>\n",
       "      <td>0.974134</td>\n",
       "    </tr>\n",
       "    <tr>\n",
       "      <td>3</td>\n",
       "      <td>64908.217742</td>\n",
       "      <td>0.974619</td>\n",
       "    </tr>\n",
       "  </tbody>\n",
       "</table>\n",
       "</div>"
      ],
      "text/plain": [
       "                RMSE        R2\n",
       "Degree                        \n",
       "1       66826.512799  0.973097\n",
       "2       65525.857762  0.974134\n",
       "3       64908.217742  0.974619"
      ]
     },
     "metadata": {},
     "output_type": "display_data"
    }
   ],
   "source": [
    "dic = {}\n",
    "l_r2 = []\n",
    "for i in range(1, 4):\n",
    "    \n",
    "    poly = PolynomialFeatures(degree = i)\n",
    "    poly_x_train = poly.fit_transform(x_train)\n",
    "    poly_reg = LinearRegression()\n",
    "    poly_reg.fit(poly_x_train, y_train)\n",
    "    \n",
    "    rmse = np.sqrt(mean_squared_error(y_train, poly_reg.predict(poly_x_train)))\n",
    "    r2 = r2_score(y_train, poly_reg.predict(poly_x_train))\n",
    "    \n",
    "    dic[i] = [i, rmse, r2]\n",
    "\n",
    "poly_train_result = pd.DataFrame.from_dict(dic, orient = 'index', columns = [\"Degree\", \"RMSE\", \"R2\"])  \n",
    "display(poly_train_result.set_index(\"Degree\"))"
   ]
  },
  {
   "cell_type": "code",
   "execution_count": 18,
   "metadata": {},
   "outputs": [
    {
     "data": {
      "text/plain": [
       "<matplotlib.axes._subplots.AxesSubplot at 0x7fbf697e3510>"
      ]
     },
     "execution_count": 18,
     "metadata": {},
     "output_type": "execute_result"
    },
    {
     "data": {
      "image/png": "[encoded data removed]",
      "text/plain": [
       "<Figure size 432x288 with 1 Axes>"
      ]
     },
     "metadata": {
      "needs_background": "light"
     },
     "output_type": "display_data"
    }
   ],
   "source": [
    "sns.lineplot(data = poly_train_result, x = \"Degree\", y = \"R2\", markers = True)"
   ]
  },
  {
   "cell_type": "code",
   "execution_count": 19,
   "metadata": {},
   "outputs": [
    {
     "data": {
      "text/plain": [
       "<matplotlib.axes._subplots.AxesSubplot at 0x7fbf69a927d0>"
      ]
     },
     "execution_count": 19,
     "metadata": {},
     "output_type": "execute_result"
    },
    {
     "data": {
      "image/png": "[encoded data removed]",
      "text/plain": [
       "<Figure size 432x288 with 1 Axes>"
      ]
     },
     "metadata": {
      "needs_background": "light"
     },
     "output_type": "display_data"
    }
   ],
   "source": [
    "sns.lineplot(data = poly_train_result, x = \"Degree\", y = \"RMSE\", markers = True)"
   ]
  },
  {
   "cell_type": "code",
   "execution_count": 20,
   "metadata": {},
   "outputs": [
    {
     "name": "stdout",
     "output_type": "stream",
     "text": [
      "Performance on Training set:\n",
      "RMSE: 64908.21774179111 \n",
      "R2 score: 0.974619155510872\n",
      "\n",
      "Performance on Testing set:\n",
      "RMSE: 65428.387948987925 \n",
      "R2 score: 0.9745553584610671\n"
     ]
    }
   ],
   "source": [
    "# from the figure above, the best degree is 3\n",
    "poly = PolynomialFeatures(degree = 3)\n",
    "poly_x_train = poly.fit_transform(x_train)\n",
    "poly_x_test = poly.fit_transform(x_test)\n",
    "poly_reg = LinearRegression()\n",
    "poly_reg.fit(poly_x_train, y_train)\n",
    "    \n",
    "print(\"Performance on Training set:\")\n",
    "get_metrics(poly_x_train, y_train, poly_reg)\n",
    "print(\"\\nPerformance on Testing set:\")\n",
    "get_metrics(poly_x_test, y_test, poly_reg)"
   ]
  },
  {
   "cell_type": "markdown",
   "metadata": {},
   "source": [
    "## 2.3 Ridge"
   ]
  },
  {
   "cell_type": "code",
   "execution_count": 21,
   "metadata": {},
   "outputs": [
    {
     "data": {
      "text/html": [
       "<div>\n",
       "<style scoped>\n",
       "    .dataframe tbody tr th:only-of-type {\n",
       "        vertical-align: middle;\n",
       "    }\n",
       "\n",
       "    .dataframe tbody tr th {\n",
       "        vertical-align: top;\n",
       "    }\n",
       "\n",
       "    .dataframe thead th {\n",
       "        text-align: right;\n",
       "    }\n",
       "</style>\n",
       "<table border=\"1\" class=\"dataframe\">\n",
       "  <thead>\n",
       "    <tr style=\"text-align: right;\">\n",
       "      <th></th>\n",
       "      <th>RMSE</th>\n",
       "      <th>R_2</th>\n",
       "    </tr>\n",
       "    <tr>\n",
       "      <th>Lambda</th>\n",
       "      <th></th>\n",
       "      <th></th>\n",
       "    </tr>\n",
       "  </thead>\n",
       "  <tbody>\n",
       "    <tr>\n",
       "      <td>0.001</td>\n",
       "      <td>66826.512799</td>\n",
       "      <td>0.973097</td>\n",
       "    </tr>\n",
       "    <tr>\n",
       "      <td>0.010</td>\n",
       "      <td>66826.512799</td>\n",
       "      <td>0.973097</td>\n",
       "    </tr>\n",
       "    <tr>\n",
       "      <td>0.100</td>\n",
       "      <td>66826.512799</td>\n",
       "      <td>0.973097</td>\n",
       "    </tr>\n",
       "    <tr>\n",
       "      <td>10.000</td>\n",
       "      <td>66826.519775</td>\n",
       "      <td>0.973097</td>\n",
       "    </tr>\n",
       "    <tr>\n",
       "      <td>30.000</td>\n",
       "      <td>66826.575533</td>\n",
       "      <td>0.973097</td>\n",
       "    </tr>\n",
       "    <tr>\n",
       "      <td>50.000</td>\n",
       "      <td>66826.686918</td>\n",
       "      <td>0.973097</td>\n",
       "    </tr>\n",
       "    <tr>\n",
       "      <td>60.000</td>\n",
       "      <td>66826.763427</td>\n",
       "      <td>0.973097</td>\n",
       "    </tr>\n",
       "    <tr>\n",
       "      <td>70.000</td>\n",
       "      <td>66826.853791</td>\n",
       "      <td>0.973097</td>\n",
       "    </tr>\n",
       "    <tr>\n",
       "      <td>80.000</td>\n",
       "      <td>66826.957995</td>\n",
       "      <td>0.973096</td>\n",
       "    </tr>\n",
       "    <tr>\n",
       "      <td>90.000</td>\n",
       "      <td>66827.076021</td>\n",
       "      <td>0.973096</td>\n",
       "    </tr>\n",
       "    <tr>\n",
       "      <td>100.000</td>\n",
       "      <td>66827.207853</td>\n",
       "      <td>0.973096</td>\n",
       "    </tr>\n",
       "  </tbody>\n",
       "</table>\n",
       "</div>"
      ],
      "text/plain": [
       "                 RMSE       R_2\n",
       "Lambda                         \n",
       "0.001    66826.512799  0.973097\n",
       "0.010    66826.512799  0.973097\n",
       "0.100    66826.512799  0.973097\n",
       "10.000   66826.519775  0.973097\n",
       "30.000   66826.575533  0.973097\n",
       "50.000   66826.686918  0.973097\n",
       "60.000   66826.763427  0.973097\n",
       "70.000   66826.853791  0.973097\n",
       "80.000   66826.957995  0.973096\n",
       "90.000   66827.076021  0.973096\n",
       "100.000  66827.207853  0.973096"
      ]
     },
     "metadata": {},
     "output_type": "display_data"
    }
   ],
   "source": [
    "dic = {}\n",
    "for n in [0.001, 0.01, 0.1, 10, 30, 50, 60, 70, 80, 90, 100]:\n",
    "    \n",
    "    # train ridge model\n",
    "    ridge = Ridge(alpha = n)\n",
    "    ridge.fit(x_train, y_train)\n",
    "    \n",
    "    # rmse, r2 for train\n",
    "    ridge_train_predict = ridge.predict(x_train)\n",
    "    ridge_train_mse = mean_squared_error(y_train, ridge_train_predict)\n",
    "    ridge_train_rmse = (np.sqrt(ridge_train_mse))\n",
    "    ridge_train_r2 = r2_score(y_train, ridge_train_predict)\n",
    "    \n",
    "    dic[n] = [n, ridge_train_rmse, ridge_train_r2]\n",
    "    \n",
    "ridge_train_result = pd.DataFrame.from_dict(dic, orient = 'index', \n",
    "                                            columns = [\"Lambda\", \"RMSE\", \"R_2\"])\n",
    "display(ridge_train_result.set_index(\"Lambda\"))"
   ]
  },
  {
   "cell_type": "code",
   "execution_count": 22,
   "metadata": {},
   "outputs": [
    {
     "name": "stdout",
     "output_type": "stream",
     "text": [
      "Performance on Training set:\n",
      "RMSE: 66826.51279854594 \n",
      "R2 score: 0.9730967778782721\n",
      "\n",
      "Performance on Testing set:\n",
      "RMSE: 66875.12237699202 \n",
      "R2 score: 0.9734176680951167\n"
     ]
    }
   ],
   "source": [
    "# from the table above, when alpha = 0.01, the ridge performs best\n",
    "\n",
    "# train ridge model\n",
    "ridge = Ridge(alpha = 0.01)\n",
    "ridge.fit(x_train, y_train)\n",
    "\n",
    "print(\"Performance on Training set:\")\n",
    "get_metrics(x_train, y_train, ridge)\n",
    "print(\"\\nPerformance on Testing set:\")\n",
    "get_metrics(x_test, y_test, ridge)"
   ]
  },
  {
   "cell_type": "markdown",
   "metadata": {},
   "source": [
    "## 2.4 Lasso"
   ]
  },
  {
   "cell_type": "code",
   "execution_count": 23,
   "metadata": {},
   "outputs": [
    {
     "data": {
      "text/html": [
       "<div>\n",
       "<style scoped>\n",
       "    .dataframe tbody tr th:only-of-type {\n",
       "        vertical-align: middle;\n",
       "    }\n",
       "\n",
       "    .dataframe tbody tr th {\n",
       "        vertical-align: top;\n",
       "    }\n",
       "\n",
       "    .dataframe thead th {\n",
       "        text-align: right;\n",
       "    }\n",
       "</style>\n",
       "<table border=\"1\" class=\"dataframe\">\n",
       "  <thead>\n",
       "    <tr style=\"text-align: right;\">\n",
       "      <th></th>\n",
       "      <th>RMSE</th>\n",
       "      <th>R_2</th>\n",
       "    </tr>\n",
       "    <tr>\n",
       "      <th>Lambda</th>\n",
       "      <th></th>\n",
       "      <th></th>\n",
       "    </tr>\n",
       "  </thead>\n",
       "  <tbody>\n",
       "    <tr>\n",
       "      <td>0.001</td>\n",
       "      <td>66826.512799</td>\n",
       "      <td>0.973097</td>\n",
       "    </tr>\n",
       "    <tr>\n",
       "      <td>0.010</td>\n",
       "      <td>66826.512799</td>\n",
       "      <td>0.973097</td>\n",
       "    </tr>\n",
       "    <tr>\n",
       "      <td>0.100</td>\n",
       "      <td>66826.512808</td>\n",
       "      <td>0.973097</td>\n",
       "    </tr>\n",
       "    <tr>\n",
       "      <td>10.000</td>\n",
       "      <td>66826.602368</td>\n",
       "      <td>0.973097</td>\n",
       "    </tr>\n",
       "    <tr>\n",
       "      <td>30.000</td>\n",
       "      <td>66827.318381</td>\n",
       "      <td>0.973096</td>\n",
       "    </tr>\n",
       "    <tr>\n",
       "      <td>50.000</td>\n",
       "      <td>66828.742452</td>\n",
       "      <td>0.973095</td>\n",
       "    </tr>\n",
       "    <tr>\n",
       "      <td>60.000</td>\n",
       "      <td>66829.730836</td>\n",
       "      <td>0.973094</td>\n",
       "    </tr>\n",
       "    <tr>\n",
       "      <td>70.000</td>\n",
       "      <td>66830.873896</td>\n",
       "      <td>0.973093</td>\n",
       "    </tr>\n",
       "    <tr>\n",
       "      <td>80.000</td>\n",
       "      <td>66832.224200</td>\n",
       "      <td>0.973092</td>\n",
       "    </tr>\n",
       "    <tr>\n",
       "      <td>90.000</td>\n",
       "      <td>66833.736394</td>\n",
       "      <td>0.973091</td>\n",
       "    </tr>\n",
       "    <tr>\n",
       "      <td>100.000</td>\n",
       "      <td>66835.412214</td>\n",
       "      <td>0.973090</td>\n",
       "    </tr>\n",
       "  </tbody>\n",
       "</table>\n",
       "</div>"
      ],
      "text/plain": [
       "                 RMSE       R_2\n",
       "Lambda                         \n",
       "0.001    66826.512799  0.973097\n",
       "0.010    66826.512799  0.973097\n",
       "0.100    66826.512808  0.973097\n",
       "10.000   66826.602368  0.973097\n",
       "30.000   66827.318381  0.973096\n",
       "50.000   66828.742452  0.973095\n",
       "60.000   66829.730836  0.973094\n",
       "70.000   66830.873896  0.973093\n",
       "80.000   66832.224200  0.973092\n",
       "90.000   66833.736394  0.973091\n",
       "100.000  66835.412214  0.973090"
      ]
     },
     "metadata": {},
     "output_type": "display_data"
    }
   ],
   "source": [
    "dic = {}\n",
    "for n in [0.001, 0.01, 0.1, 10, 30, 50, 60, 70, 80, 90, 100]:\n",
    "    \n",
    "    # train lasso model\n",
    "    lasso = Lasso(alpha = n)\n",
    "    lasso.fit(x_train, y_train)\n",
    "    \n",
    "    # rmse, r2 for train\n",
    "    lasso_train_predict = lasso.predict(x_train)\n",
    "    lasso_train_mse = mean_squared_error(y_train, lasso_train_predict)\n",
    "    lasso_train_rmse = (np.sqrt(lasso_train_mse))\n",
    "    lasso_train_r2 = r2_score(y_train, lasso_train_predict)\n",
    "    \n",
    "    dic[n] = [n, lasso_train_rmse, lasso_train_r2]\n",
    "    \n",
    "lasso_train_result = pd.DataFrame.from_dict(dic, orient = 'index', \n",
    "                                            columns = [\"Lambda\", \"RMSE\", \"R_2\"])\n",
    "display(lasso_train_result.set_index(\"Lambda\"))"
   ]
  },
  {
   "cell_type": "code",
   "execution_count": 24,
   "metadata": {},
   "outputs": [
    {
     "name": "stdout",
     "output_type": "stream",
     "text": [
      "Performance on Training set:\n",
      "RMSE: 66826.51279862865 \n",
      "R2 score: 0.9730967778782055\n",
      "\n",
      "Performance on Testing set:\n",
      "RMSE: 66875.12251101842 \n",
      "R2 score: 0.9734176679885678\n"
     ]
    }
   ],
   "source": [
    "# from the table above, when alpha = 0.01, the lasso performs best\n",
    "\n",
    "# train ridge model\n",
    "lasso = Lasso(alpha = 0.01)\n",
    "lasso.fit(x_train, y_train)\n",
    "\n",
    "print(\"Performance on Training set:\")\n",
    "get_metrics(x_train, y_train, lasso)\n",
    "print(\"\\nPerformance on Testing set:\")\n",
    "get_metrics(x_test, y_test, lasso)"
   ]
  },
  {
   "cell_type": "markdown",
   "metadata": {},
   "source": [
    "## 2.5 Regression Tree"
   ]
  },
  {
   "cell_type": "code",
   "execution_count": 25,
   "metadata": {},
   "outputs": [],
   "source": [
    "def cross_validation_on_regression_tree(x, y, depths, cv):\n",
    "    cv_scores_list = []\n",
    "\n",
    "    for i in depths:\n",
    "        tree_model = DecisionTreeRegressor(max_depth = i)\n",
    "        cv_score = cross_val_score(tree_model, x, y, cv=cv, scoring = \"r2\").mean()\n",
    "        cv_scores_list.append(cv_score)\n",
    "    return cv_scores_list"
   ]
  },
  {
   "cell_type": "code",
   "execution_count": 26,
   "metadata": {},
   "outputs": [
    {
     "data": {
      "image/png": "[encoded data removed]",
      "text/plain": [
       "<Figure size 720x432 with 1 Axes>"
      ]
     },
     "metadata": {
      "needs_background": "light"
     },
     "output_type": "display_data"
    }
   ],
   "source": [
    "plt.figure(figsize = (10, 6))\n",
    "cv_score_list = cross_validation_on_regression_tree(x_train, y_train, range(1, 21), 10)\n",
    "\n",
    "plt.plot(range(1, 21), cv_score_list, color = \"red\", marker = 'o', linestyle = '--')  \n",
    "plt.xlabel('Depth of The Tree')\n",
    "plt.ylabel('R2')\n",
    "plt.title('R2 vs Depth of The Tree')\n",
    "plt.show()"
   ]
  },
  {
   "cell_type": "code",
   "execution_count": 27,
   "metadata": {},
   "outputs": [
    {
     "name": "stdout",
     "output_type": "stream",
     "text": [
      "Performance on Training set:\n",
      "RMSE: 65696.55936906359 \n",
      "R2 score: 0.9739988863040431\n",
      "\n",
      "Performance on Testing set:\n",
      "RMSE: 65924.74983282771 \n",
      "R2 score: 0.9741678307415553\n"
     ]
    }
   ],
   "source": [
    "# from the figure, the regression tree performs best at depth 6\n",
    "reg_tree = DecisionTreeRegressor(max_depth = 6)\n",
    "reg_tree.fit(x_train, y_train)\n",
    "\n",
    "print(\"Performance on Training set:\")\n",
    "get_metrics(x_train, y_train, reg_tree)\n",
    "print(\"\\nPerformance on Testing set:\")\n",
    "get_metrics(x_test, y_test, reg_tree)"
   ]
  },
  {
   "cell_type": "markdown",
   "metadata": {},
   "source": [
    "# 3. Revolving Loan"
   ]
  },
  {
   "cell_type": "code",
   "execution_count": 28,
   "metadata": {},
   "outputs": [
    {
     "data": {
      "text/html": [
       "<div>\n",
       "<style scoped>\n",
       "    .dataframe tbody tr th:only-of-type {\n",
       "        vertical-align: middle;\n",
       "    }\n",
       "\n",
       "    .dataframe tbody tr th {\n",
       "        vertical-align: top;\n",
       "    }\n",
       "\n",
       "    .dataframe thead th {\n",
       "        text-align: right;\n",
       "    }\n",
       "</style>\n",
       "<table border=\"1\" class=\"dataframe\">\n",
       "  <thead>\n",
       "    <tr style=\"text-align: right;\">\n",
       "      <th></th>\n",
       "      <th>Late_payment_before</th>\n",
       "      <th>Gender</th>\n",
       "      <th>Own_car</th>\n",
       "      <th>Own_realty</th>\n",
       "      <th>Number_of_children</th>\n",
       "      <th>Annual_income</th>\n",
       "      <th>Goods_price</th>\n",
       "      <th>Income_type</th>\n",
       "      <th>Educational_level</th>\n",
       "      <th>Marriege_status</th>\n",
       "      <th>Housing_type</th>\n",
       "      <th>Age</th>\n",
       "      <th>Working_length</th>\n",
       "      <th>Occupation_type</th>\n",
       "      <th>Number_of_family_member</th>\n",
       "      <th>Living_region_rating</th>\n",
       "      <th>Amount_issued</th>\n",
       "    </tr>\n",
       "  </thead>\n",
       "  <tbody>\n",
       "    <tr>\n",
       "      <td>298121</td>\n",
       "      <td>0</td>\n",
       "      <td>0</td>\n",
       "      <td>0</td>\n",
       "      <td>0</td>\n",
       "      <td>1</td>\n",
       "      <td>63765.0</td>\n",
       "      <td>135000.0</td>\n",
       "      <td>0</td>\n",
       "      <td>0</td>\n",
       "      <td>1</td>\n",
       "      <td>0</td>\n",
       "      <td>32.90</td>\n",
       "      <td>4.60</td>\n",
       "      <td>3</td>\n",
       "      <td>3.0</td>\n",
       "      <td>2</td>\n",
       "      <td>135000.0</td>\n",
       "    </tr>\n",
       "    <tr>\n",
       "      <td>71193</td>\n",
       "      <td>0</td>\n",
       "      <td>1</td>\n",
       "      <td>1</td>\n",
       "      <td>1</td>\n",
       "      <td>1</td>\n",
       "      <td>225000.0</td>\n",
       "      <td>180000.0</td>\n",
       "      <td>0</td>\n",
       "      <td>0</td>\n",
       "      <td>2</td>\n",
       "      <td>0</td>\n",
       "      <td>28.21</td>\n",
       "      <td>9.94</td>\n",
       "      <td>4</td>\n",
       "      <td>2.0</td>\n",
       "      <td>2</td>\n",
       "      <td>180000.0</td>\n",
       "    </tr>\n",
       "    <tr>\n",
       "      <td>269692</td>\n",
       "      <td>0</td>\n",
       "      <td>0</td>\n",
       "      <td>0</td>\n",
       "      <td>0</td>\n",
       "      <td>1</td>\n",
       "      <td>94500.0</td>\n",
       "      <td>180000.0</td>\n",
       "      <td>0</td>\n",
       "      <td>1</td>\n",
       "      <td>1</td>\n",
       "      <td>0</td>\n",
       "      <td>22.06</td>\n",
       "      <td>1.50</td>\n",
       "      <td>3</td>\n",
       "      <td>3.0</td>\n",
       "      <td>2</td>\n",
       "      <td>180000.0</td>\n",
       "    </tr>\n",
       "    <tr>\n",
       "      <td>270364</td>\n",
       "      <td>0</td>\n",
       "      <td>1</td>\n",
       "      <td>0</td>\n",
       "      <td>1</td>\n",
       "      <td>0</td>\n",
       "      <td>225000.0</td>\n",
       "      <td>180000.0</td>\n",
       "      <td>1</td>\n",
       "      <td>0</td>\n",
       "      <td>1</td>\n",
       "      <td>5</td>\n",
       "      <td>46.60</td>\n",
       "      <td>4.60</td>\n",
       "      <td>2</td>\n",
       "      <td>2.0</td>\n",
       "      <td>2</td>\n",
       "      <td>180000.0</td>\n",
       "    </tr>\n",
       "    <tr>\n",
       "      <td>144142</td>\n",
       "      <td>0</td>\n",
       "      <td>0</td>\n",
       "      <td>0</td>\n",
       "      <td>0</td>\n",
       "      <td>0</td>\n",
       "      <td>382500.0</td>\n",
       "      <td>1125000.0</td>\n",
       "      <td>1</td>\n",
       "      <td>2</td>\n",
       "      <td>2</td>\n",
       "      <td>0</td>\n",
       "      <td>41.03</td>\n",
       "      <td>4.62</td>\n",
       "      <td>0</td>\n",
       "      <td>1.0</td>\n",
       "      <td>1</td>\n",
       "      <td>1125000.0</td>\n",
       "    </tr>\n",
       "    <tr>\n",
       "      <td>109860</td>\n",
       "      <td>0</td>\n",
       "      <td>0</td>\n",
       "      <td>0</td>\n",
       "      <td>0</td>\n",
       "      <td>1</td>\n",
       "      <td>63000.0</td>\n",
       "      <td>157500.0</td>\n",
       "      <td>0</td>\n",
       "      <td>0</td>\n",
       "      <td>1</td>\n",
       "      <td>0</td>\n",
       "      <td>34.42</td>\n",
       "      <td>3.40</td>\n",
       "      <td>9</td>\n",
       "      <td>3.0</td>\n",
       "      <td>2</td>\n",
       "      <td>157500.0</td>\n",
       "    </tr>\n",
       "    <tr>\n",
       "      <td>4764</td>\n",
       "      <td>0</td>\n",
       "      <td>0</td>\n",
       "      <td>0</td>\n",
       "      <td>0</td>\n",
       "      <td>0</td>\n",
       "      <td>67500.0</td>\n",
       "      <td>247500.0</td>\n",
       "      <td>1</td>\n",
       "      <td>0</td>\n",
       "      <td>2</td>\n",
       "      <td>0</td>\n",
       "      <td>21.37</td>\n",
       "      <td>1.55</td>\n",
       "      <td>9</td>\n",
       "      <td>1.0</td>\n",
       "      <td>2</td>\n",
       "      <td>247500.0</td>\n",
       "    </tr>\n",
       "    <tr>\n",
       "      <td>27230</td>\n",
       "      <td>0</td>\n",
       "      <td>1</td>\n",
       "      <td>1</td>\n",
       "      <td>0</td>\n",
       "      <td>1</td>\n",
       "      <td>184500.0</td>\n",
       "      <td>180000.0</td>\n",
       "      <td>0</td>\n",
       "      <td>0</td>\n",
       "      <td>2</td>\n",
       "      <td>0</td>\n",
       "      <td>32.37</td>\n",
       "      <td>4.27</td>\n",
       "      <td>9</td>\n",
       "      <td>2.0</td>\n",
       "      <td>2</td>\n",
       "      <td>180000.0</td>\n",
       "    </tr>\n",
       "    <tr>\n",
       "      <td>63816</td>\n",
       "      <td>0</td>\n",
       "      <td>1</td>\n",
       "      <td>1</td>\n",
       "      <td>0</td>\n",
       "      <td>0</td>\n",
       "      <td>202500.0</td>\n",
       "      <td>270000.0</td>\n",
       "      <td>0</td>\n",
       "      <td>0</td>\n",
       "      <td>2</td>\n",
       "      <td>0</td>\n",
       "      <td>30.88</td>\n",
       "      <td>3.20</td>\n",
       "      <td>9</td>\n",
       "      <td>1.0</td>\n",
       "      <td>2</td>\n",
       "      <td>270000.0</td>\n",
       "    </tr>\n",
       "    <tr>\n",
       "      <td>60834</td>\n",
       "      <td>0</td>\n",
       "      <td>0</td>\n",
       "      <td>0</td>\n",
       "      <td>0</td>\n",
       "      <td>0</td>\n",
       "      <td>225000.0</td>\n",
       "      <td>675000.0</td>\n",
       "      <td>0</td>\n",
       "      <td>0</td>\n",
       "      <td>1</td>\n",
       "      <td>0</td>\n",
       "      <td>50.46</td>\n",
       "      <td>13.80</td>\n",
       "      <td>14</td>\n",
       "      <td>2.0</td>\n",
       "      <td>3</td>\n",
       "      <td>675000.0</td>\n",
       "    </tr>\n",
       "  </tbody>\n",
       "</table>\n",
       "</div>"
      ],
      "text/plain": [
       "        Late_payment_before  Gender  Own_car  Own_realty  Number_of_children  \\\n",
       "298121                    0       0        0           0                   1   \n",
       "71193                     0       1        1           1                   1   \n",
       "269692                    0       0        0           0                   1   \n",
       "270364                    0       1        0           1                   0   \n",
       "144142                    0       0        0           0                   0   \n",
       "109860                    0       0        0           0                   1   \n",
       "4764                      0       0        0           0                   0   \n",
       "27230                     0       1        1           0                   1   \n",
       "63816                     0       1        1           0                   0   \n",
       "60834                     0       0        0           0                   0   \n",
       "\n",
       "        Annual_income  Goods_price  Income_type  Educational_level  \\\n",
       "298121        63765.0     135000.0            0                  0   \n",
       "71193        225000.0     180000.0            0                  0   \n",
       "269692        94500.0     180000.0            0                  1   \n",
       "270364       225000.0     180000.0            1                  0   \n",
       "144142       382500.0    1125000.0            1                  2   \n",
       "109860        63000.0     157500.0            0                  0   \n",
       "4764          67500.0     247500.0            1                  0   \n",
       "27230        184500.0     180000.0            0                  0   \n",
       "63816        202500.0     270000.0            0                  0   \n",
       "60834        225000.0     675000.0            0                  0   \n",
       "\n",
       "        Marriege_status  Housing_type    Age  Working_length  Occupation_type  \\\n",
       "298121                1             0  32.90            4.60                3   \n",
       "71193                 2             0  28.21            9.94                4   \n",
       "269692                1             0  22.06            1.50                3   \n",
       "270364                1             5  46.60            4.60                2   \n",
       "144142                2             0  41.03            4.62                0   \n",
       "109860                1             0  34.42            3.40                9   \n",
       "4764                  2             0  21.37            1.55                9   \n",
       "27230                 2             0  32.37            4.27                9   \n",
       "63816                 2             0  30.88            3.20                9   \n",
       "60834                 1             0  50.46           13.80               14   \n",
       "\n",
       "        Number_of_family_member  Living_region_rating  Amount_issued  \n",
       "298121                      3.0                     2       135000.0  \n",
       "71193                       2.0                     2       180000.0  \n",
       "269692                      3.0                     2       180000.0  \n",
       "270364                      2.0                     2       180000.0  \n",
       "144142                      1.0                     1      1125000.0  \n",
       "109860                      3.0                     2       157500.0  \n",
       "4764                        1.0                     2       247500.0  \n",
       "27230                       2.0                     2       180000.0  \n",
       "63816                       1.0                     2       270000.0  \n",
       "60834                       2.0                     3       675000.0  "
      ]
     },
     "execution_count": 28,
     "metadata": {},
     "output_type": "execute_result"
    }
   ],
   "source": [
    "revolving_loan_df.head(10)"
   ]
  },
  {
   "cell_type": "code",
   "execution_count": 29,
   "metadata": {},
   "outputs": [],
   "source": [
    "# define scaler, use standard scaler\n",
    "scaler = StandardScaler()\n",
    "\n",
    "features = list(revolving_loan_df.columns)[:-1]\n",
    "# use stardard scaler to scale data, used for gradient descent\n",
    "revolving_loan_df[features] = scaler.fit_transform(revolving_loan_df[list(features)])"
   ]
  },
  {
   "cell_type": "code",
   "execution_count": 30,
   "metadata": {},
   "outputs": [
    {
     "data": {
      "text/plain": [
       "<matplotlib.axes._subplots.AxesSubplot at 0x7fbe0a301190>"
      ]
     },
     "execution_count": 30,
     "metadata": {},
     "output_type": "execute_result"
    },
    {
     "data": {
      "image/png": "[encoded data removed]",
      "text/plain": [
       "<Figure size 720x540 with 2 Axes>"
      ]
     },
     "metadata": {
      "needs_background": "light"
     },
     "output_type": "display_data"
    }
   ],
   "source": [
    "correlation_matrix = revolving_loan_df.corr().round(2)\n",
    "\n",
    "plt.subplots(figsize=(10, 7.5))\n",
    "sns.heatmap(data = correlation_matrix, annot = True)"
   ]
  },
  {
   "cell_type": "code",
   "execution_count": 31,
   "metadata": {},
   "outputs": [
    {
     "data": {
      "text/plain": [
       "Late_payment_before       -0.07\n",
       "Gender                     0.08\n",
       "Own_car                    0.11\n",
       "Own_realty                -0.02\n",
       "Number_of_children        -0.04\n",
       "Annual_income              0.58\n",
       "Goods_price                0.99\n",
       "Income_type                0.16\n",
       "Educational_level          0.27\n",
       "Marriege_status           -0.02\n",
       "Housing_type              -0.06\n",
       "Age                        0.21\n",
       "Working_length             0.13\n",
       "Occupation_type           -0.09\n",
       "Number_of_family_member   -0.00\n",
       "Living_region_rating      -0.21\n",
       "Amount_issued              1.00\n",
       "Name: Amount_issued, dtype: float64"
      ]
     },
     "execution_count": 31,
     "metadata": {},
     "output_type": "execute_result"
    }
   ],
   "source": [
    "# calculate the correlation coefficient\n",
    "revolving_loan_df.corr().round(2).iloc[:, -1]"
   ]
  },
  {
   "cell_type": "code",
   "execution_count": 32,
   "metadata": {},
   "outputs": [],
   "source": [
    "# prepare the data\n",
    "x_train, y_train, x_test, y_test = data_preparation(revolving_loan_df)"
   ]
  },
  {
   "cell_type": "markdown",
   "metadata": {},
   "source": [
    "## 3.1 Linear Regression"
   ]
  },
  {
   "cell_type": "code",
   "execution_count": 33,
   "metadata": {},
   "outputs": [
    {
     "data": {
      "text/plain": [
       "LinearRegression(copy_X=True, fit_intercept=True, n_jobs=None, normalize=False)"
      ]
     },
     "execution_count": 33,
     "metadata": {},
     "output_type": "execute_result"
    }
   ],
   "source": [
    "# train by linear regression\n",
    "mlr = LinearRegression()\n",
    "mlr.fit(x_train, y_train)"
   ]
  },
  {
   "cell_type": "code",
   "execution_count": 34,
   "metadata": {},
   "outputs": [
    {
     "name": "stdout",
     "output_type": "stream",
     "text": [
      "Performance on Training set:\n",
      "RMSE: 25218.97938955007 \n",
      "R2 score: 0.9883967160226504\n",
      "\n",
      "Performance on Testing set:\n",
      "RMSE: 21999.94879771412 \n",
      "R2 score: 0.9909757030913187\n"
     ]
    }
   ],
   "source": [
    "print(\"Performance on Training set:\")\n",
    "get_metrics(x_train, y_train, mlr)\n",
    "print(\"\\nPerformance on Testing set:\")\n",
    "get_metrics(x_test, y_test, mlr)"
   ]
  },
  {
   "cell_type": "markdown",
   "metadata": {},
   "source": [
    "## 3.2 Polynomial Regression"
   ]
  },
  {
   "cell_type": "code",
   "execution_count": 35,
   "metadata": {},
   "outputs": [
    {
     "data": {
      "text/html": [
       "<div>\n",
       "<style scoped>\n",
       "    .dataframe tbody tr th:only-of-type {\n",
       "        vertical-align: middle;\n",
       "    }\n",
       "\n",
       "    .dataframe tbody tr th {\n",
       "        vertical-align: top;\n",
       "    }\n",
       "\n",
       "    .dataframe thead th {\n",
       "        text-align: right;\n",
       "    }\n",
       "</style>\n",
       "<table border=\"1\" class=\"dataframe\">\n",
       "  <thead>\n",
       "    <tr style=\"text-align: right;\">\n",
       "      <th></th>\n",
       "      <th>RMSE</th>\n",
       "      <th>R2</th>\n",
       "    </tr>\n",
       "    <tr>\n",
       "      <th>Degree</th>\n",
       "      <th></th>\n",
       "      <th></th>\n",
       "    </tr>\n",
       "  </thead>\n",
       "  <tbody>\n",
       "    <tr>\n",
       "      <td>1</td>\n",
       "      <td>25218.979390</td>\n",
       "      <td>0.988397</td>\n",
       "    </tr>\n",
       "    <tr>\n",
       "      <td>2</td>\n",
       "      <td>24947.388445</td>\n",
       "      <td>0.988645</td>\n",
       "    </tr>\n",
       "    <tr>\n",
       "      <td>3</td>\n",
       "      <td>23427.628030</td>\n",
       "      <td>0.989987</td>\n",
       "    </tr>\n",
       "  </tbody>\n",
       "</table>\n",
       "</div>"
      ],
      "text/plain": [
       "                RMSE        R2\n",
       "Degree                        \n",
       "1       25218.979390  0.988397\n",
       "2       24947.388445  0.988645\n",
       "3       23427.628030  0.989987"
      ]
     },
     "metadata": {},
     "output_type": "display_data"
    }
   ],
   "source": [
    "dic = {}\n",
    "l_r2 = []\n",
    "for i in range(1, 4):\n",
    "    \n",
    "    poly = PolynomialFeatures(degree = i)\n",
    "    poly_x_train = poly.fit_transform(x_train)\n",
    "    poly_reg = LinearRegression()\n",
    "    poly_reg.fit(poly_x_train, y_train)\n",
    "    \n",
    "    rmse = np.sqrt(mean_squared_error(y_train, poly_reg.predict(poly_x_train)))\n",
    "    r2 = r2_score(y_train, poly_reg.predict(poly_x_train))\n",
    "    \n",
    "    dic[i] = [i, rmse, r2]\n",
    "\n",
    "poly_train_result = pd.DataFrame.from_dict(dic, orient = 'index', columns = [\"Degree\", \"RMSE\", \"R2\"])  \n",
    "display(poly_train_result.set_index(\"Degree\"))"
   ]
  },
  {
   "cell_type": "code",
   "execution_count": 36,
   "metadata": {},
   "outputs": [
    {
     "data": {
      "text/plain": [
       "<matplotlib.axes._subplots.AxesSubplot at 0x7fbe08ea63d0>"
      ]
     },
     "execution_count": 36,
     "metadata": {},
     "output_type": "execute_result"
    },
    {
     "data": {
      "image/png": "[encoded data removed]",
      "text/plain": [
       "<Figure size 432x288 with 1 Axes>"
      ]
     },
     "metadata": {
      "needs_background": "light"
     },
     "output_type": "display_data"
    }
   ],
   "source": [
    "sns.lineplot(data = poly_train_result, x = \"Degree\", y = \"R2\", markers = True)"
   ]
  },
  {
   "cell_type": "code",
   "execution_count": 37,
   "metadata": {},
   "outputs": [
    {
     "data": {
      "text/plain": [
       "<matplotlib.axes._subplots.AxesSubplot at 0x7fbe0904b350>"
      ]
     },
     "execution_count": 37,
     "metadata": {},
     "output_type": "execute_result"
    },
    {
     "data": {
      "image/png": "[encoded data removed]",
      "text/plain": [
       "<Figure size 432x288 with 1 Axes>"
      ]
     },
     "metadata": {
      "needs_background": "light"
     },
     "output_type": "display_data"
    }
   ],
   "source": [
    "sns.lineplot(data = poly_train_result, x = \"Degree\", y = \"RMSE\", markers = True)"
   ]
  },
  {
   "cell_type": "code",
   "execution_count": 38,
   "metadata": {},
   "outputs": [
    {
     "name": "stdout",
     "output_type": "stream",
     "text": [
      "Performance on Training set:\n",
      "RMSE: 23427.62802994458 \n",
      "R2 score: 0.9899865773437321\n",
      "\n",
      "Performance on Testing set:\n",
      "RMSE: 314939369544.7171 \n",
      "R2 score: -1849370573606.1538\n"
     ]
    }
   ],
   "source": [
    "# from the figure above, the best degree is 3\n",
    "poly = PolynomialFeatures(degree = 3)\n",
    "poly_x_train = poly.fit_transform(x_train)\n",
    "poly_x_test = poly.fit_transform(x_test)\n",
    "poly_reg = LinearRegression()\n",
    "poly_reg.fit(poly_x_train, y_train)\n",
    "    \n",
    "print(\"Performance on Training set:\")\n",
    "get_metrics(poly_x_train, y_train, poly_reg)\n",
    "print(\"\\nPerformance on Testing set:\")\n",
    "get_metrics(poly_x_test, y_test, poly_reg)"
   ]
  },
  {
   "cell_type": "markdown",
   "metadata": {},
   "source": [
    "## 3.3 Ridge"
   ]
  },
  {
   "cell_type": "code",
   "execution_count": 39,
   "metadata": {},
   "outputs": [
    {
     "data": {
      "text/html": [
       "<div>\n",
       "<style scoped>\n",
       "    .dataframe tbody tr th:only-of-type {\n",
       "        vertical-align: middle;\n",
       "    }\n",
       "\n",
       "    .dataframe tbody tr th {\n",
       "        vertical-align: top;\n",
       "    }\n",
       "\n",
       "    .dataframe thead th {\n",
       "        text-align: right;\n",
       "    }\n",
       "</style>\n",
       "<table border=\"1\" class=\"dataframe\">\n",
       "  <thead>\n",
       "    <tr style=\"text-align: right;\">\n",
       "      <th></th>\n",
       "      <th>RMSE</th>\n",
       "      <th>R_2</th>\n",
       "    </tr>\n",
       "    <tr>\n",
       "      <th>Lambda</th>\n",
       "      <th></th>\n",
       "      <th></th>\n",
       "    </tr>\n",
       "  </thead>\n",
       "  <tbody>\n",
       "    <tr>\n",
       "      <td>0.001</td>\n",
       "      <td>25218.979390</td>\n",
       "      <td>0.988397</td>\n",
       "    </tr>\n",
       "    <tr>\n",
       "      <td>0.010</td>\n",
       "      <td>25218.979390</td>\n",
       "      <td>0.988397</td>\n",
       "    </tr>\n",
       "    <tr>\n",
       "      <td>0.100</td>\n",
       "      <td>25218.979456</td>\n",
       "      <td>0.988397</td>\n",
       "    </tr>\n",
       "    <tr>\n",
       "      <td>10.000</td>\n",
       "      <td>25219.641189</td>\n",
       "      <td>0.988396</td>\n",
       "    </tr>\n",
       "    <tr>\n",
       "      <td>30.000</td>\n",
       "      <td>25224.903086</td>\n",
       "      <td>0.988391</td>\n",
       "    </tr>\n",
       "    <tr>\n",
       "      <td>50.000</td>\n",
       "      <td>25235.342959</td>\n",
       "      <td>0.988382</td>\n",
       "    </tr>\n",
       "    <tr>\n",
       "      <td>60.000</td>\n",
       "      <td>25242.476861</td>\n",
       "      <td>0.988375</td>\n",
       "    </tr>\n",
       "    <tr>\n",
       "      <td>70.000</td>\n",
       "      <td>25250.871742</td>\n",
       "      <td>0.988367</td>\n",
       "    </tr>\n",
       "    <tr>\n",
       "      <td>80.000</td>\n",
       "      <td>25260.516250</td>\n",
       "      <td>0.988358</td>\n",
       "    </tr>\n",
       "    <tr>\n",
       "      <td>90.000</td>\n",
       "      <td>25271.398951</td>\n",
       "      <td>0.988348</td>\n",
       "    </tr>\n",
       "    <tr>\n",
       "      <td>100.000</td>\n",
       "      <td>25283.508341</td>\n",
       "      <td>0.988337</td>\n",
       "    </tr>\n",
       "  </tbody>\n",
       "</table>\n",
       "</div>"
      ],
      "text/plain": [
       "                 RMSE       R_2\n",
       "Lambda                         \n",
       "0.001    25218.979390  0.988397\n",
       "0.010    25218.979390  0.988397\n",
       "0.100    25218.979456  0.988397\n",
       "10.000   25219.641189  0.988396\n",
       "30.000   25224.903086  0.988391\n",
       "50.000   25235.342959  0.988382\n",
       "60.000   25242.476861  0.988375\n",
       "70.000   25250.871742  0.988367\n",
       "80.000   25260.516250  0.988358\n",
       "90.000   25271.398951  0.988348\n",
       "100.000  25283.508341  0.988337"
      ]
     },
     "metadata": {},
     "output_type": "display_data"
    }
   ],
   "source": [
    "dic = {}\n",
    "for n in [0.001, 0.01, 0.1, 10, 30, 50, 60, 70, 80, 90, 100]:\n",
    "    \n",
    "    # train ridge model\n",
    "    ridge = Ridge(alpha = n)\n",
    "    ridge.fit(x_train, y_train)\n",
    "    \n",
    "    # rmse, r2 for train\n",
    "    ridge_train_predict = ridge.predict(x_train)\n",
    "    ridge_train_mse = mean_squared_error(y_train, ridge_train_predict)\n",
    "    ridge_train_rmse = (np.sqrt(ridge_train_mse))\n",
    "    ridge_train_r2 = r2_score(y_train, ridge_train_predict)\n",
    "    \n",
    "    dic[n] = [n, ridge_train_rmse, ridge_train_r2]\n",
    "    \n",
    "ridge_train_result = pd.DataFrame.from_dict(dic, orient = 'index', \n",
    "                                            columns = [\"Lambda\", \"RMSE\", \"R_2\"])\n",
    "display(ridge_train_result.set_index(\"Lambda\"))"
   ]
  },
  {
   "cell_type": "code",
   "execution_count": 40,
   "metadata": {},
   "outputs": [
    {
     "name": "stdout",
     "output_type": "stream",
     "text": [
      "Performance on Training set:\n",
      "RMSE: 25218.97939021366 \n",
      "R2 score: 0.9883967160220398\n",
      "\n",
      "Performance on Testing set:\n",
      "RMSE: 21999.95541357441 \n",
      "R2 score: 0.9909756976637154\n"
     ]
    }
   ],
   "source": [
    "# from the table above, when alpha = 0.01, the ridge performs best\n",
    "\n",
    "# train ridge model\n",
    "ridge = Ridge(alpha = 0.01)\n",
    "ridge.fit(x_train, y_train)\n",
    "\n",
    "print(\"Performance on Training set:\")\n",
    "get_metrics(x_train, y_train, ridge)\n",
    "print(\"\\nPerformance on Testing set:\")\n",
    "get_metrics(x_test, y_test, ridge)"
   ]
  },
  {
   "cell_type": "markdown",
   "metadata": {},
   "source": [
    "## 3.4 Lasso"
   ]
  },
  {
   "cell_type": "code",
   "execution_count": 41,
   "metadata": {},
   "outputs": [
    {
     "data": {
      "text/html": [
       "<div>\n",
       "<style scoped>\n",
       "    .dataframe tbody tr th:only-of-type {\n",
       "        vertical-align: middle;\n",
       "    }\n",
       "\n",
       "    .dataframe tbody tr th {\n",
       "        vertical-align: top;\n",
       "    }\n",
       "\n",
       "    .dataframe thead th {\n",
       "        text-align: right;\n",
       "    }\n",
       "</style>\n",
       "<table border=\"1\" class=\"dataframe\">\n",
       "  <thead>\n",
       "    <tr style=\"text-align: right;\">\n",
       "      <th></th>\n",
       "      <th>RMSE</th>\n",
       "      <th>R_2</th>\n",
       "    </tr>\n",
       "    <tr>\n",
       "      <th>Lambda</th>\n",
       "      <th></th>\n",
       "      <th></th>\n",
       "    </tr>\n",
       "  </thead>\n",
       "  <tbody>\n",
       "    <tr>\n",
       "      <td>0.001</td>\n",
       "      <td>25218.979390</td>\n",
       "      <td>0.988397</td>\n",
       "    </tr>\n",
       "    <tr>\n",
       "      <td>0.010</td>\n",
       "      <td>25218.979390</td>\n",
       "      <td>0.988397</td>\n",
       "    </tr>\n",
       "    <tr>\n",
       "      <td>0.100</td>\n",
       "      <td>25218.979393</td>\n",
       "      <td>0.988397</td>\n",
       "    </tr>\n",
       "    <tr>\n",
       "      <td>10.000</td>\n",
       "      <td>25219.009935</td>\n",
       "      <td>0.988397</td>\n",
       "    </tr>\n",
       "    <tr>\n",
       "      <td>30.000</td>\n",
       "      <td>25219.958224</td>\n",
       "      <td>0.988396</td>\n",
       "    </tr>\n",
       "    <tr>\n",
       "      <td>50.000</td>\n",
       "      <td>25221.247815</td>\n",
       "      <td>0.988395</td>\n",
       "    </tr>\n",
       "    <tr>\n",
       "      <td>60.000</td>\n",
       "      <td>25221.484570</td>\n",
       "      <td>0.988394</td>\n",
       "    </tr>\n",
       "    <tr>\n",
       "      <td>70.000</td>\n",
       "      <td>25221.752497</td>\n",
       "      <td>0.988394</td>\n",
       "    </tr>\n",
       "    <tr>\n",
       "      <td>80.000</td>\n",
       "      <td>25222.068490</td>\n",
       "      <td>0.988394</td>\n",
       "    </tr>\n",
       "    <tr>\n",
       "      <td>90.000</td>\n",
       "      <td>25222.427661</td>\n",
       "      <td>0.988394</td>\n",
       "    </tr>\n",
       "    <tr>\n",
       "      <td>100.000</td>\n",
       "      <td>25222.825876</td>\n",
       "      <td>0.988393</td>\n",
       "    </tr>\n",
       "  </tbody>\n",
       "</table>\n",
       "</div>"
      ],
      "text/plain": [
       "                 RMSE       R_2\n",
       "Lambda                         \n",
       "0.001    25218.979390  0.988397\n",
       "0.010    25218.979390  0.988397\n",
       "0.100    25218.979393  0.988397\n",
       "10.000   25219.009935  0.988397\n",
       "30.000   25219.958224  0.988396\n",
       "50.000   25221.247815  0.988395\n",
       "60.000   25221.484570  0.988394\n",
       "70.000   25221.752497  0.988394\n",
       "80.000   25222.068490  0.988394\n",
       "90.000   25222.427661  0.988394\n",
       "100.000  25222.825876  0.988393"
      ]
     },
     "metadata": {},
     "output_type": "display_data"
    }
   ],
   "source": [
    "dic = {}\n",
    "for n in [0.001, 0.01, 0.1, 10, 30, 50, 60, 70, 80, 90, 100]:\n",
    "    \n",
    "    # train lasso model\n",
    "    lasso = Lasso(alpha = n)\n",
    "    lasso.fit(x_train, y_train)\n",
    "    \n",
    "    # rmse, r2 for train\n",
    "    lasso_train_predict = lasso.predict(x_train)\n",
    "    lasso_train_mse = mean_squared_error(y_train, lasso_train_predict)\n",
    "    lasso_train_rmse = (np.sqrt(lasso_train_mse))\n",
    "    lasso_train_r2 = r2_score(y_train, lasso_train_predict)\n",
    "    \n",
    "    dic[n] = [n, lasso_train_rmse, lasso_train_r2]\n",
    "    \n",
    "lasso_train_result = pd.DataFrame.from_dict(dic, orient = 'index', \n",
    "                                            columns = [\"Lambda\", \"RMSE\", \"R_2\"])\n",
    "display(lasso_train_result.set_index(\"Lambda\"))"
   ]
  },
  {
   "cell_type": "code",
   "execution_count": 42,
   "metadata": {},
   "outputs": [
    {
     "name": "stdout",
     "output_type": "stream",
     "text": [
      "Performance on Training set:\n",
      "RMSE: 25218.979389579847 \n",
      "R2 score: 0.988396716022623\n",
      "\n",
      "Performance on Testing set:\n",
      "RMSE: 21999.948736285274 \n",
      "R2 score: 0.9909757031417145\n"
     ]
    }
   ],
   "source": [
    "# from the table above, when alpha = 0.01, the lasso performs best\n",
    "\n",
    "# train ridge model\n",
    "lasso = Lasso(alpha = 0.01)\n",
    "lasso.fit(x_train, y_train)\n",
    "\n",
    "print(\"Performance on Training set:\")\n",
    "get_metrics(x_train, y_train, lasso)\n",
    "print(\"\\nPerformance on Testing set:\")\n",
    "get_metrics(x_test, y_test, lasso)"
   ]
  },
  {
   "cell_type": "markdown",
   "metadata": {},
   "source": [
    "## 3.5 Decision Tree Regression"
   ]
  },
  {
   "cell_type": "code",
   "execution_count": 43,
   "metadata": {},
   "outputs": [],
   "source": [
    "def cross_validation_on_regression_tree(x, y, depths, cv):\n",
    "    cv_scores_list = []\n",
    "\n",
    "    for i in depths:\n",
    "        tree_model = DecisionTreeRegressor(max_depth = i)\n",
    "        cv_score = cross_val_score(tree_model, x, y, cv=cv, scoring = \"r2\").mean()\n",
    "        cv_scores_list.append(cv_score)\n",
    "    return cv_scores_list"
   ]
  },
  {
   "cell_type": "code",
   "execution_count": 45,
   "metadata": {},
   "outputs": [
    {
     "data": {
      "image/png": "[encoded data removed]",
      "text/plain": [
       "<Figure size 720x432 with 1 Axes>"
      ]
     },
     "metadata": {
      "needs_background": "light"
     },
     "output_type": "display_data"
    }
   ],
   "source": [
    "plt.figure(figsize = (10, 6))\n",
    "cv_score_list = cross_validation_on_regression_tree(x_train, y_train, range(1, 21), 10)\n",
    "\n",
    "plt.plot(range(1, 21), cv_score_list, color = \"red\", marker = 'o', linestyle = '--')  \n",
    "plt.xlabel('Depth of The Tree')\n",
    "plt.ylabel('R2')\n",
    "plt.title('R2 vs Depth of The Tree')\n",
    "plt.show()"
   ]
  },
  {
   "cell_type": "code",
   "execution_count": 46,
   "metadata": {},
   "outputs": [
    {
     "name": "stdout",
     "output_type": "stream",
     "text": [
      "Performance on Training set:\n",
      "RMSE: 22931.78816632904 \n",
      "R2 score: 0.990405955016634\n",
      "\n",
      "Performance on Testing set:\n",
      "RMSE: 24217.741392761054 \n",
      "R2 score: 0.9890645336103514\n"
     ]
    }
   ],
   "source": [
    "# from the figure, the regression tree performs best at depth 6\n",
    "reg_tree = DecisionTreeRegressor(max_depth = 6)\n",
    "reg_tree.fit(x_train, y_train)\n",
    "\n",
    "print(\"Performance on Training set:\")\n",
    "get_metrics(x_train, y_train, reg_tree)\n",
    "print(\"\\nPerformance on Testing set:\")\n",
    "get_metrics(x_test, y_test, reg_tree)"
   ]
  }
 ],
 "metadata": {
  "kernelspec": {
   "display_name": "Python 3",
   "language": "python",
   "name": "python3"
  },
  "language_info": {
   "codemirror_mode": {
    "name": "ipython",
    "version": 3
   },
   "file_extension": ".py",
   "mimetype": "text/x-python",
   "name": "python",
   "nbconvert_exporter": "python",
   "pygments_lexer": "ipython3",
   "version": "3.7.4"
  }
 },
 "nbformat": 4,
 "nbformat_minor": 2
}
